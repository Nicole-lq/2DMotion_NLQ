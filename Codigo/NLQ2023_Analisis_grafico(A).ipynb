{
 "cells": [
  {
   "attachments": {},
   "cell_type": "markdown",
   "metadata": {},
   "source": [
    "Analisis de Gráficos (A)\n",
    "-------------------------------------------\n",
    "**Por Nicole Lastra Quiroz** \n",
    "- Abril 2023 \n",
    "\n",
    "_Código de confección propia para la obtención de los frames del video de los cuales se tomarán los datos_"
   ]
  },
  {
   "cell_type": "code",
   "execution_count": 4,
   "metadata": {},
   "outputs": [],
   "source": [
    "# Importar librerias\n",
    "import cv2\n",
    "import numpy as np\n",
    "import pandas as pd\n",
    "import time\n"
   ]
  },
  {
   "cell_type": "code",
   "execution_count": 5,
   "metadata": {},
   "outputs": [],
   "source": [
    "# Carga el video (se consideró el rango total de segundos [9,133] )\n",
    "cap = cv2.VideoCapture('video.mp4')\n",
    "\n",
    "# Verifica si se carga correctamente\n",
    "if not cap.isOpened():\n",
    "    print(\"Error al cargar el video\")\n"
   ]
  },
  {
   "cell_type": "code",
   "execution_count": 7,
   "metadata": {},
   "outputs": [],
   "source": [
    "# Tasa de fotogramas por segundo\n",
    "fps = cap.get(cv2.CAP_PROP_FPS)\n",
    "\n",
    "# Intervalo de tiempo para capturar un frame (cada 2 segundos)\n",
    "frame_interval = int(fps * 2) \n",
    "\n",
    "# Establecimiento de los tiempos y conteo de frames iniciales\n",
    "frame_count = 0\n",
    "start_time = time.time()\n",
    "\n",
    "# Lectura de frames del video\n",
    "while cap.isOpened():\n",
    "    # Lee el frame actual\n",
    "    ret, frame = cap.read()\n",
    "    \n",
    "    # Verifica si se llega al final del video\n",
    "    if not ret:\n",
    "        break\n",
    "\n",
    "    # Guarda una imagen cada 2 segundos\n",
    "    if frame_count % frame_interval == 0:\n",
    "        # Agrega un número de secuencia al nombre de archivo\n",
    "        img_name = f\"img_{str(frame_count).zfill(6)}.png\" \n",
    "        cv2.imwrite(img_name, frame)\n",
    "\n",
    "    frame_count += 1\n",
    "    \n",
    "# Cierre del proceso y ventanas abiertas    \n",
    "cap.release()\n",
    "cv2.destroyAllWindows()\n"
   ]
  },
  {
   "attachments": {},
   "cell_type": "markdown",
   "metadata": {},
   "source": [
    "Después se puede definir las áreas de interés (ROI), como se muestra a continuación:"
   ]
  },
  {
   "cell_type": "code",
   "execution_count": null,
   "metadata": {},
   "outputs": [],
   "source": [
    "# Definir las ROIs\n",
    "roi_v = (1090, 600, 200, 100)\n",
    "roi_t = (1630, 970, 150, 90)"
   ]
  },
  {
   "attachments": {},
   "cell_type": "markdown",
   "metadata": {},
   "source": [
    "Luego, se puede trabajar con las imagenes de los frames capturados, y procesarlos con Pytesseract, una CNN, o un transformer, para la predicción y guardado de los datos numéricos obtenidos de las ROI. Para efectos de mantener algo del trabajo manual que se supone que debíamos hacer (y con excel...), se tomarán los datos de las fotos de forma manual, una a una, y se registrarán en un archivo .csv, que se procesará con Python (para no tener que lidiar con excel demasiado)."
   ]
  }
 ],
 "metadata": {
  "kernelspec": {
   "display_name": "base",
   "language": "python",
   "name": "python3"
  },
  "language_info": {
   "codemirror_mode": {
    "name": "ipython",
    "version": 3
   },
   "file_extension": ".py",
   "mimetype": "text/x-python",
   "name": "python",
   "nbconvert_exporter": "python",
   "pygments_lexer": "ipython3",
   "version": "3.9.7"
  },
  "orig_nbformat": 4
 },
 "nbformat": 4,
 "nbformat_minor": 2
}
